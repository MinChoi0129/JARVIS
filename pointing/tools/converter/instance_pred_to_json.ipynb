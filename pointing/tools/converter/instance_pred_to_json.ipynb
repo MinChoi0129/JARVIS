{
 "cells": [
  {
   "cell_type": "code",
   "execution_count": 1,
   "metadata": {},
   "outputs": [],
   "source": [
    "import numpy as np"
   ]
  },
  {
   "cell_type": "code",
   "execution_count": 7,
   "metadata": {},
   "outputs": [],
   "source": [
    "color = np.load(\"/Users/leeminjae0129/Desktop/jarvis/minjae/PointceptS3DISfor702/xyzrgb/xyz_preprocessed/702_color.npy\")\n",
    "coord = np.load(\"/Users/leeminjae0129/Desktop/jarvis/minjae/PointceptS3DISfor702/xyzrgb/xyz_preprocessed/702_coord.npy\")\n",
    "pred = np.load(\"/Users/leeminjae0129/Desktop/jarvis/minjae/PointceptS3DISfor702/npy_pred/702_pred.npy\")\n",
    "ins_pred = np.load(\"/Users/leeminjae0129/Desktop/jarvis/minjae/PointceptS3DISfor702/npy_pred/702_instance_pred.npy\")"
   ]
  },
  {
   "cell_type": "code",
   "execution_count": 8,
   "metadata": {},
   "outputs": [
    {
     "data": {
      "text/plain": [
       "((3693113, 3), (3693113, 3), (3693113,), (3693113,), 11, 62)"
      ]
     },
     "execution_count": 8,
     "metadata": {},
     "output_type": "execute_result"
    }
   ],
   "source": [
    "color.shape, coord.shape, pred.shape, ins_pred.shape, len(set(pred)), len(set(ins_pred))"
   ]
  },
  {
   "cell_type": "code",
   "execution_count": 5,
   "metadata": {},
   "outputs": [],
   "source": [
    "class_names = {\n",
    "    0: \"ceiling\",\n",
    "    1: \"floor\",\n",
    "    2: \"wall\",\n",
    "    3: \"beam\",\n",
    "    4: \"column\",\n",
    "    5: \"window\",\n",
    "    6: \"door\",\n",
    "    7: \"table\",\n",
    "    8: \"chair\",\n",
    "    9: \"sofa\",\n",
    "    10: \"bookcase\",\n",
    "    11: \"board\",\n",
    "    12: \"clutter\",\n",
    "}"
   ]
  },
  {
   "cell_type": "code",
   "execution_count": 6,
   "metadata": {},
   "outputs": [
    {
     "data": {
      "text/plain": [
       "{'ceilings': [],\n",
       " 'floors': [],\n",
       " 'walls': [],\n",
       " 'beams': [],\n",
       " 'columns': [],\n",
       " 'windows': [],\n",
       " 'doors': [],\n",
       " 'tables': [],\n",
       " 'chairs': [],\n",
       " 'sofas': [],\n",
       " 'bookcases': [],\n",
       " 'boards': [],\n",
       " 'clutters': []}"
      ]
     },
     "execution_count": 6,
     "metadata": {},
     "output_type": "execute_result"
    }
   ],
   "source": [
    "json_data = {c_name + \"s\": [] for c_name in class_names.values()}\n",
    "json_data"
   ]
  },
  {
   "cell_type": "code",
   "execution_count": 10,
   "metadata": {},
   "outputs": [
    {
     "name": "stdout",
     "output_type": "stream",
     "text": [
      "ceiling:  [0 0 0 ... 0 0 0] (612179,) {0}\n",
      "------------------------------------------------------------------------------\n",
      "floor:  [1 1 1 ... 1 1 1] (553198,) {1}\n",
      "------------------------------------------------------------------------------\n",
      "wall:  [2 2 2 ... 2 2 2] (900537,) {2}\n",
      "------------------------------------------------------------------------------\n",
      "beam:  [] (0,) set()\n",
      "------------------------------------------------------------------------------\n",
      "column:  [1 1 1 ... 1 1 1] (31554,) {1}\n",
      "------------------------------------------------------------------------------\n",
      "window:  [] (0,) set()\n",
      "------------------------------------------------------------------------------\n",
      "door:  [0 0 0 ... 0 0 0] (14832,) {0}\n",
      "------------------------------------------------------------------------------\n",
      "table:  [3 3 3 ... 4 4 4] (201511,) {2, 3, 4, 5}\n",
      "------------------------------------------------------------------------------\n",
      "chair:  [9 9 9 ... 8 8 8] (160351,) {6, 7, 8, 9, 10, 11, 12, 13, 14, 15, 16}\n",
      "------------------------------------------------------------------------------\n",
      "sofa:  [17 17 17 ... 17 17 17] (29747,) {17}\n",
      "------------------------------------------------------------------------------\n",
      "bookcase:  [18 18 18 ... 19 19 19] (168777,) {18, 19, 20, 21}\n",
      "------------------------------------------------------------------------------\n",
      "board:  [0 0 0 ... 0 0 0] (40694,) {0}\n",
      "------------------------------------------------------------------------------\n",
      "clutter:  [61 61 61 ... 53 53 53] (979733,) {22, 23, 24, 25, 26, 27, 28, 29, 30, 31, 32, 33, 34, 35, 36, 37, 38, 39, 40, 41, 42, 43, 44, 45, 46, 47, 48, 49, 50, 51, 52, 53, 54, 55, 56, 57, 58, 59, 60, 61}\n",
      "------------------------------------------------------------------------------\n"
     ]
    }
   ],
   "source": [
    "for c_idx in class_names:\n",
    "    print(f\"{class_names[c_idx]}: \", end=\" \")\n",
    "    bool_list = pred == c_idx # 클래스가 c_idx인 bool_list (n, )\n",
    "    coord_parsed = coord[bool_list]\n",
    "    color_parsed = color[bool_list]\n",
    "    print(ins_pred[bool_list], ins_pred[bool_list].shape, set(ins_pred[bool_list]))\n",
    "    for ins_idx in set(ins_pred[bool_list]):\n",
    "        ins_coord = coord_parsed[ins_pred[bool_list] == ins_idx]\n",
    "        ins_color = color_parsed[ins_pred[bool_list] == ins_idx]\n",
    "        json_data[class_names[c_idx] + \"s\"].append(np.concatenate((ins_coord, ins_color), axis=1))\n",
    "\n",
    "    print(\"------------------------------------------------------------------------------\")\n"
   ]
  },
  {
   "cell_type": "code",
   "execution_count": 13,
   "metadata": {},
   "outputs": [
    {
     "data": {
      "text/plain": [
       "(553198, 6)"
      ]
     },
     "execution_count": 13,
     "metadata": {},
     "output_type": "execute_result"
    }
   ],
   "source": [
    "json_data[\"floors\"][0].shape"
   ]
  },
  {
   "cell_type": "code",
   "execution_count": 15,
   "metadata": {},
   "outputs": [
    {
     "name": "stdout",
     "output_type": "stream",
     "text": [
      "/Users/leeminjae0129/Desktop/jarvis/minjae/PointceptS3DISfor702/npy_pred/instance_coord_npy/ceiling_0.npy\n",
      "---\n",
      "/Users/leeminjae0129/Desktop/jarvis/minjae/PointceptS3DISfor702/npy_pred/instance_coord_npy/floor_0.npy\n",
      "---\n",
      "/Users/leeminjae0129/Desktop/jarvis/minjae/PointceptS3DISfor702/npy_pred/instance_coord_npy/wall_0.npy\n",
      "---\n",
      "---\n",
      "/Users/leeminjae0129/Desktop/jarvis/minjae/PointceptS3DISfor702/npy_pred/instance_coord_npy/column_0.npy\n",
      "---\n",
      "---\n",
      "/Users/leeminjae0129/Desktop/jarvis/minjae/PointceptS3DISfor702/npy_pred/instance_coord_npy/door_0.npy\n",
      "---\n",
      "/Users/leeminjae0129/Desktop/jarvis/minjae/PointceptS3DISfor702/npy_pred/instance_coord_npy/table_0.npy\n",
      "/Users/leeminjae0129/Desktop/jarvis/minjae/PointceptS3DISfor702/npy_pred/instance_coord_npy/table_1.npy\n",
      "/Users/leeminjae0129/Desktop/jarvis/minjae/PointceptS3DISfor702/npy_pred/instance_coord_npy/table_2.npy\n",
      "/Users/leeminjae0129/Desktop/jarvis/minjae/PointceptS3DISfor702/npy_pred/instance_coord_npy/table_3.npy\n",
      "---\n",
      "/Users/leeminjae0129/Desktop/jarvis/minjae/PointceptS3DISfor702/npy_pred/instance_coord_npy/chair_0.npy\n",
      "/Users/leeminjae0129/Desktop/jarvis/minjae/PointceptS3DISfor702/npy_pred/instance_coord_npy/chair_1.npy\n",
      "/Users/leeminjae0129/Desktop/jarvis/minjae/PointceptS3DISfor702/npy_pred/instance_coord_npy/chair_2.npy\n",
      "/Users/leeminjae0129/Desktop/jarvis/minjae/PointceptS3DISfor702/npy_pred/instance_coord_npy/chair_3.npy\n",
      "/Users/leeminjae0129/Desktop/jarvis/minjae/PointceptS3DISfor702/npy_pred/instance_coord_npy/chair_4.npy\n",
      "/Users/leeminjae0129/Desktop/jarvis/minjae/PointceptS3DISfor702/npy_pred/instance_coord_npy/chair_5.npy\n",
      "/Users/leeminjae0129/Desktop/jarvis/minjae/PointceptS3DISfor702/npy_pred/instance_coord_npy/chair_6.npy\n",
      "/Users/leeminjae0129/Desktop/jarvis/minjae/PointceptS3DISfor702/npy_pred/instance_coord_npy/chair_7.npy\n",
      "/Users/leeminjae0129/Desktop/jarvis/minjae/PointceptS3DISfor702/npy_pred/instance_coord_npy/chair_8.npy\n",
      "/Users/leeminjae0129/Desktop/jarvis/minjae/PointceptS3DISfor702/npy_pred/instance_coord_npy/chair_9.npy\n",
      "/Users/leeminjae0129/Desktop/jarvis/minjae/PointceptS3DISfor702/npy_pred/instance_coord_npy/chair_10.npy\n",
      "---\n",
      "/Users/leeminjae0129/Desktop/jarvis/minjae/PointceptS3DISfor702/npy_pred/instance_coord_npy/sofa_0.npy\n",
      "---\n",
      "/Users/leeminjae0129/Desktop/jarvis/minjae/PointceptS3DISfor702/npy_pred/instance_coord_npy/bookcase_0.npy\n",
      "/Users/leeminjae0129/Desktop/jarvis/minjae/PointceptS3DISfor702/npy_pred/instance_coord_npy/bookcase_1.npy\n",
      "/Users/leeminjae0129/Desktop/jarvis/minjae/PointceptS3DISfor702/npy_pred/instance_coord_npy/bookcase_2.npy\n",
      "/Users/leeminjae0129/Desktop/jarvis/minjae/PointceptS3DISfor702/npy_pred/instance_coord_npy/bookcase_3.npy\n",
      "---\n",
      "/Users/leeminjae0129/Desktop/jarvis/minjae/PointceptS3DISfor702/npy_pred/instance_coord_npy/board_0.npy\n",
      "---\n",
      "/Users/leeminjae0129/Desktop/jarvis/minjae/PointceptS3DISfor702/npy_pred/instance_coord_npy/clutter_0.npy\n",
      "/Users/leeminjae0129/Desktop/jarvis/minjae/PointceptS3DISfor702/npy_pred/instance_coord_npy/clutter_1.npy\n",
      "/Users/leeminjae0129/Desktop/jarvis/minjae/PointceptS3DISfor702/npy_pred/instance_coord_npy/clutter_2.npy\n",
      "/Users/leeminjae0129/Desktop/jarvis/minjae/PointceptS3DISfor702/npy_pred/instance_coord_npy/clutter_3.npy\n",
      "/Users/leeminjae0129/Desktop/jarvis/minjae/PointceptS3DISfor702/npy_pred/instance_coord_npy/clutter_4.npy\n",
      "/Users/leeminjae0129/Desktop/jarvis/minjae/PointceptS3DISfor702/npy_pred/instance_coord_npy/clutter_5.npy\n",
      "/Users/leeminjae0129/Desktop/jarvis/minjae/PointceptS3DISfor702/npy_pred/instance_coord_npy/clutter_6.npy\n",
      "/Users/leeminjae0129/Desktop/jarvis/minjae/PointceptS3DISfor702/npy_pred/instance_coord_npy/clutter_7.npy\n",
      "/Users/leeminjae0129/Desktop/jarvis/minjae/PointceptS3DISfor702/npy_pred/instance_coord_npy/clutter_8.npy\n",
      "/Users/leeminjae0129/Desktop/jarvis/minjae/PointceptS3DISfor702/npy_pred/instance_coord_npy/clutter_9.npy\n",
      "/Users/leeminjae0129/Desktop/jarvis/minjae/PointceptS3DISfor702/npy_pred/instance_coord_npy/clutter_10.npy\n",
      "/Users/leeminjae0129/Desktop/jarvis/minjae/PointceptS3DISfor702/npy_pred/instance_coord_npy/clutter_11.npy\n",
      "/Users/leeminjae0129/Desktop/jarvis/minjae/PointceptS3DISfor702/npy_pred/instance_coord_npy/clutter_12.npy\n",
      "/Users/leeminjae0129/Desktop/jarvis/minjae/PointceptS3DISfor702/npy_pred/instance_coord_npy/clutter_13.npy\n",
      "/Users/leeminjae0129/Desktop/jarvis/minjae/PointceptS3DISfor702/npy_pred/instance_coord_npy/clutter_14.npy\n",
      "/Users/leeminjae0129/Desktop/jarvis/minjae/PointceptS3DISfor702/npy_pred/instance_coord_npy/clutter_15.npy\n",
      "/Users/leeminjae0129/Desktop/jarvis/minjae/PointceptS3DISfor702/npy_pred/instance_coord_npy/clutter_16.npy\n",
      "/Users/leeminjae0129/Desktop/jarvis/minjae/PointceptS3DISfor702/npy_pred/instance_coord_npy/clutter_17.npy\n",
      "/Users/leeminjae0129/Desktop/jarvis/minjae/PointceptS3DISfor702/npy_pred/instance_coord_npy/clutter_18.npy\n",
      "/Users/leeminjae0129/Desktop/jarvis/minjae/PointceptS3DISfor702/npy_pred/instance_coord_npy/clutter_19.npy\n",
      "/Users/leeminjae0129/Desktop/jarvis/minjae/PointceptS3DISfor702/npy_pred/instance_coord_npy/clutter_20.npy\n",
      "/Users/leeminjae0129/Desktop/jarvis/minjae/PointceptS3DISfor702/npy_pred/instance_coord_npy/clutter_21.npy\n",
      "/Users/leeminjae0129/Desktop/jarvis/minjae/PointceptS3DISfor702/npy_pred/instance_coord_npy/clutter_22.npy\n",
      "/Users/leeminjae0129/Desktop/jarvis/minjae/PointceptS3DISfor702/npy_pred/instance_coord_npy/clutter_23.npy\n",
      "/Users/leeminjae0129/Desktop/jarvis/minjae/PointceptS3DISfor702/npy_pred/instance_coord_npy/clutter_24.npy\n",
      "/Users/leeminjae0129/Desktop/jarvis/minjae/PointceptS3DISfor702/npy_pred/instance_coord_npy/clutter_25.npy\n",
      "/Users/leeminjae0129/Desktop/jarvis/minjae/PointceptS3DISfor702/npy_pred/instance_coord_npy/clutter_26.npy\n",
      "/Users/leeminjae0129/Desktop/jarvis/minjae/PointceptS3DISfor702/npy_pred/instance_coord_npy/clutter_27.npy\n",
      "/Users/leeminjae0129/Desktop/jarvis/minjae/PointceptS3DISfor702/npy_pred/instance_coord_npy/clutter_28.npy\n",
      "/Users/leeminjae0129/Desktop/jarvis/minjae/PointceptS3DISfor702/npy_pred/instance_coord_npy/clutter_29.npy\n",
      "/Users/leeminjae0129/Desktop/jarvis/minjae/PointceptS3DISfor702/npy_pred/instance_coord_npy/clutter_30.npy\n",
      "/Users/leeminjae0129/Desktop/jarvis/minjae/PointceptS3DISfor702/npy_pred/instance_coord_npy/clutter_31.npy\n",
      "/Users/leeminjae0129/Desktop/jarvis/minjae/PointceptS3DISfor702/npy_pred/instance_coord_npy/clutter_32.npy\n",
      "/Users/leeminjae0129/Desktop/jarvis/minjae/PointceptS3DISfor702/npy_pred/instance_coord_npy/clutter_33.npy\n",
      "/Users/leeminjae0129/Desktop/jarvis/minjae/PointceptS3DISfor702/npy_pred/instance_coord_npy/clutter_34.npy\n",
      "/Users/leeminjae0129/Desktop/jarvis/minjae/PointceptS3DISfor702/npy_pred/instance_coord_npy/clutter_35.npy\n",
      "/Users/leeminjae0129/Desktop/jarvis/minjae/PointceptS3DISfor702/npy_pred/instance_coord_npy/clutter_36.npy\n",
      "/Users/leeminjae0129/Desktop/jarvis/minjae/PointceptS3DISfor702/npy_pred/instance_coord_npy/clutter_37.npy\n",
      "/Users/leeminjae0129/Desktop/jarvis/minjae/PointceptS3DISfor702/npy_pred/instance_coord_npy/clutter_38.npy\n",
      "/Users/leeminjae0129/Desktop/jarvis/minjae/PointceptS3DISfor702/npy_pred/instance_coord_npy/clutter_39.npy\n",
      "---\n"
     ]
    }
   ],
   "source": [
    "for c_name, ins_coords in json_data.items():\n",
    "    for idx, coord in enumerate(ins_coords):\n",
    "        name = f\"/Users/leeminjae0129/Desktop/jarvis/minjae/PointceptS3DISfor702/npy_pred/instance_coord_npy/{c_name[:-1]}_{idx}.npy\"\n",
    "        print(name)\n",
    "        np.save(name, coord)\n",
    "    print(\"---\")"
   ]
  },
  {
   "cell_type": "code",
   "execution_count": null,
   "metadata": {},
   "outputs": [],
   "source": []
  }
 ],
 "metadata": {
  "kernelspec": {
   "display_name": "M2_pytorch",
   "language": "python",
   "name": "python3"
  },
  "language_info": {
   "codemirror_mode": {
    "name": "ipython",
    "version": 3
   },
   "file_extension": ".py",
   "mimetype": "text/x-python",
   "name": "python",
   "nbconvert_exporter": "python",
   "pygments_lexer": "ipython3",
   "version": "3.8.19"
  }
 },
 "nbformat": 4,
 "nbformat_minor": 2
}
