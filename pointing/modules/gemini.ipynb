{
 "cells": [
  {
   "cell_type": "code",
   "execution_count": 1,
   "metadata": {},
   "outputs": [],
   "source": [
    "# single_turn.py\n",
    "from google import genai\n",
    "import os\n",
    "\n",
    "with open(\"../tools/gemini_api\", mode=\"r\") as f:\n",
    "    api_key = f.readline()\n",
    "    client = genai.Client(api_key=api_key)\n",
    "    "
   ]
  },
  {
   "cell_type": "code",
   "execution_count": 2,
   "metadata": {},
   "outputs": [],
   "source": [
    "prompt_text = \"\"\"\n",
    "I will provide a sentence containing \"this\" or \"that.\" You need to infer what object \"this\" or \"that\" refers to.  \n",
    "\n",
    "The possible objects are as follows:  \n",
    "**Objects = {laptop, mouse, phone, headphones, tumbler, tissue, wet wipes, diary, pen, pencil case, cushion, blanket}**  \n",
    "\n",
    "The thought process should be as follows:  \n",
    "\n",
    "**Sentence = \"Where did this lid go?\"**  \n",
    "\n",
    "1. Seeing \"this lid,\" I recognize that \"this\" refers to an object with a lid.  \n",
    "2. Among the given objects, those that are likely to have a lid are **tumbler, wet wipes, pen**.  \n",
    "3. **Answer = {tumbler, wet wipes, pen}**  \n",
    "\n",
    "Maintain this reasoning process but provide only the final answer.\n",
    "\"\"\"\n"
   ]
  },
  {
   "cell_type": "code",
   "execution_count": null,
   "metadata": {},
   "outputs": [],
   "source": [
    "response = client.models.generate_content(\n",
    "    model=\"gemini-1.5-flash\", contents=prompt_text\n",
    ")"
   ]
  },
  {
   "cell_type": "code",
   "execution_count": 4,
   "metadata": {},
   "outputs": [
    {
     "name": "stdout",
     "output_type": "stream",
     "text": [
      "Okay, I understand. Give me the sentence.\n",
      "\n"
     ]
    }
   ],
   "source": [
    "print(response.text)"
   ]
  },
  {
   "cell_type": "code",
   "execution_count": null,
   "metadata": {},
   "outputs": [],
   "source": []
  }
 ],
 "metadata": {
  "kernelspec": {
   "display_name": "point",
   "language": "python",
   "name": "python3"
  },
  "language_info": {
   "codemirror_mode": {
    "name": "ipython",
    "version": 3
   },
   "file_extension": ".py",
   "mimetype": "text/x-python",
   "name": "python",
   "nbconvert_exporter": "python",
   "pygments_lexer": "ipython3",
   "version": "3.9.21"
  }
 },
 "nbformat": 4,
 "nbformat_minor": 2
}
